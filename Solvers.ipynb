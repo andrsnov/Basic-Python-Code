{
 "cells": [
  {
   "cell_type": "markdown",
   "metadata": {},
   "source": [
    "<h1><center> Solvers </center></h1>\n",
    "\n",
    "<img src=\"/files/Documents/Semestre%20VI/Semillero/Solvers/logo_sympy.png\">\n",
    "\n",
    "En este módulo se hará uso de la libreria Sympy para resolver ecuaciones o sistemas de ecuaciones de diversos tipos. Se tomarán las aplicaciones más útiles para el campo de la ingeniería. Si se desea profundizar ir al siguiente link: http://docs.sympy.org/latest/modules/solvers/solvers.html ahí se tendrán casos más detallados para problemas más específicos.\n",
    "\n",
    "\n",
    "<h1> Ecuaciones Algebráicas </h1>\n",
    "\n",
    "Las ecuaciones algebráicas son aquellos polinomios que se igualan a cero. Generalmente se manejan polinomios de primer o segundo grado, es decir, cuyas variables están elevadas a la unidad o al cuadrado.\n",
    "\n",
    "\n"
   ]
  },
  {
   "cell_type": "code",
   "execution_count": 11,
   "metadata": {
    "collapsed": false
   },
   "outputs": [
    {
     "name": "stdout",
     "output_type": "stream",
     "text": [
      "[-2, 2]\n",
      "[3]\n"
     ]
    }
   ],
   "source": [
    "from sympy import Symbol, solve, sin\n",
    "import numpy as np\n",
    "import math\n",
    "\n",
    "x = Symbol(\"x\")\n",
    "\n",
    "sol_1 = solve(x**2 - 4, x)\n",
    "\n",
    "print sol_1\n",
    "\n",
    "#Podemos definir también una función y resolverla.\n",
    "\n",
    "def y(x):\n",
    "    return -15 + 5*x\n",
    "\n",
    "sol_2 = solve(y(x))\n",
    "\n",
    "print sol_2\n",
    "\n",
    "\n",
    "\n",
    "\n"
   ]
  },
  {
   "cell_type": "markdown",
   "metadata": {},
   "source": [
    "La solución que obtenemos, como sabemos, son las raíces de la ecuación, ya que es en ese valor donde la curva de la función corta el eje x, en caso de tener una función de tipo $f(x) = x$. Para demostrar lo anterior podemos graficar dichas funciones."
   ]
  },
  {
   "cell_type": "code",
   "execution_count": 12,
   "metadata": {
    "collapsed": false
   },
   "outputs": [
    {
     "data": {
      "image/png": "[encoded data removed]",
      "text/plain": [
       "<matplotlib.figure.Figure at 0x9100b70>"
      ]
     },
     "metadata": {},
     "output_type": "display_data"
    }
   ],
   "source": [
    "%matplotlib inline\n",
    "import matplotlib.pyplot as plt\n",
    "import numpy as np\n",
    "\n",
    "x = np.linspace(-5,5,100)\n",
    "plt.plot(x,x**2 - 4, color=\"k\")\n",
    "plt.plot(x,-15 + 5*x, color=\"y\")\n",
    "plt.xlabel('x')\n",
    "plt.ylabel('y')\n",
    "plt.grid(True)"
   ]
  },
  {
   "cell_type": "markdown",
   "metadata": {},
   "source": [
    "Como vemos, hay funciones que tienes dos soluciones, si queremos sólo la positiva o sólo la negativa, podemos hacer lo siguiente."
   ]
  },
  {
   "cell_type": "code",
   "execution_count": 13,
   "metadata": {
    "collapsed": false
   },
   "outputs": [
    {
     "data": {
      "text/plain": [
       "[2]"
      ]
     },
     "execution_count": 13,
     "metadata": {},
     "output_type": "execute_result"
    }
   ],
   "source": [
    "x_pos = Symbol(\"x_pos\", positive=True)\n",
    "solve(x_pos**2 - 4)"
   ]
  },
  {
   "cell_type": "code",
   "execution_count": 14,
   "metadata": {
    "collapsed": false
   },
   "outputs": [
    {
     "data": {
      "text/plain": [
       "[-2]"
      ]
     },
     "execution_count": 14,
     "metadata": {},
     "output_type": "execute_result"
    }
   ],
   "source": [
    "x_neg = Symbol(\"x_neg\", negative=True)\n",
    "solve(x_neg**2 - 4)"
   ]
  },
  {
   "cell_type": "markdown",
   "metadata": {},
   "source": [
    "La solución no debe ser numérica, también se pueden despejar símbolos."
   ]
  },
  {
   "cell_type": "code",
   "execution_count": 5,
   "metadata": {
    "collapsed": false
   },
   "outputs": [
    {
     "name": "stdout",
     "output_type": "stream",
     "text": [
      "sol_1 =  [y**2]\n",
      "sol_2 =  [-sqrt(x), sqrt(x)]\n"
     ]
    }
   ],
   "source": [
    "from sympy.abc import x, y, z, a, b, c\n",
    "\n",
    "sol_1 = solve(x - y**2, x)\n",
    "\n",
    "#Tambien podemos despejar y de la misma ecuación\n",
    "\n",
    "sol_2 = solve(x - y**2, y)\n",
    "\n",
    "print \"sol_1 = \", sol_1\n",
    "print \"sol_2 = \", sol_2"
   ]
  },
  {
   "cell_type": "markdown",
   "metadata": {},
   "source": [
    "Podemos tener un ecuación con constantes y después evaluarlas con solve."
   ]
  },
  {
   "cell_type": "code",
   "execution_count": 6,
   "metadata": {
    "collapsed": false
   },
   "outputs": [
    {
     "name": "stdout",
     "output_type": "stream",
     "text": [
      "{b: 3/4, a: -3/4}\n"
     ]
    }
   ],
   "source": [
    "sol_3 = solve((a + b)*x**3 - 4*b + 3 , a, b)\n",
    "\n",
    "print sol_3"
   ]
  },
  {
   "cell_type": "markdown",
   "metadata": {
    "collapsed": false
   },
   "source": [
    "<h2> Sistemas de Ecuaciones </h2>\n",
    "\n",
    "Sympy no sólo resuelve ecuaciones, también sistemas de ecuaciones, en este caso lineales."
   ]
  },
  {
   "cell_type": "code",
   "execution_count": 7,
   "metadata": {
    "collapsed": false
   },
   "outputs": [
    {
     "data": {
      "text/plain": [
       "{x: -21/2, y: 7/2}"
      ]
     },
     "execution_count": 7,
     "metadata": {},
     "output_type": "execute_result"
    }
   ],
   "source": [
    "from sympy import Matrix, solve_linear_system\n",
    "from sympy.abc import x, y\n",
    "\n",
    "x +  3*y == 0 #No afectan la operación, se pueden escribir en #\n",
    "\n",
    "x +  5*y == 7 #Deben estar en la forma a*x + b*y = c\n",
    "\n",
    "system = Matrix([[1,3,0],[1,5,7]])\n",
    "\n",
    "solve_linear_system(system, x, y)"
   ]
  },
  {
   "cell_type": "markdown",
   "metadata": {
    "collapsed": true
   },
   "source": [
    "Podemos usar otras librerías para resolver un sistema de ecuaciones, como Numpy."
   ]
  },
  {
   "cell_type": "code",
   "execution_count": 8,
   "metadata": {
    "collapsed": false
   },
   "outputs": [
    {
     "name": "stdout",
     "output_type": "stream",
     "text": [
      "[-10.5   3.5]\n"
     ]
    }
   ],
   "source": [
    "import numpy as np\n",
    "\n",
    "x +  3*y == 0 #No afectan la operación, se pueden escribir en #\n",
    "\n",
    "x +  5*y == 7 \n",
    "\n",
    "coef = np.array([[1,3],[1,5]]) #Matriz de coeficientes\n",
    "\n",
    "ti = np.array([0,7]) #Matriz terminos independientes\n",
    "\n",
    "solution = np.linalg.solve(coef, ti)\n",
    "\n",
    "print solution"
   ]
  },
  {
   "cell_type": "markdown",
   "metadata": {},
   "source": [
    "Se pueden resolver sistemas de ecuaciones lineales de más de dos variables. Para esto debemos usar otro método qque hace parte de los solvers de Sympy."
   ]
  },
  {
   "cell_type": "code",
   "execution_count": 9,
   "metadata": {
    "collapsed": false
   },
   "outputs": [
    {
     "data": {
      "text/plain": [
       "{x: 1/2, z: -1/2, y: 1/4}"
      ]
     },
     "execution_count": 9,
     "metadata": {},
     "output_type": "execute_result"
    }
   ],
   "source": [
    "from sympy import Matrix\n",
    "from sympy.abc import x, y, z\n",
    "from sympy.solvers.solvers import solve_linear_system_LU\n",
    "\n",
    "#x +  3*y + 6*z == 0 #No afectan la operación, se pueden escribir en #\n",
    "\n",
    "#x +  5*y - 8*z == 7 #Deben estar en la forma a*x + b*y + c*z = d\n",
    "\n",
    "#3*x + y + 9*z == 5 \n",
    "\n",
    "solve_linear_system_LU(Matrix([\n",
    "    [1,2,0,1],\n",
    "    [3,2,2,1],\n",
    "    [2,0,0,1]]),[x, y, z] )"
   ]
  },
  {
   "cell_type": "markdown",
   "metadata": {},
   "source": [
    "<h2>Ejemplo</h2>\n",
    "\n",
    "Un cliente de un supermercado ha pagado un total de 156 € por 24 l de leche, 6 kg de jamón serrano y 12 l de aceite de oliva. Calcular el precio de cada artículo, sabiendo que 1 l de aceite cuesta el triple que 1 l de leche y que 1 kg de jamón cuesta igual que 4 l de aceite más 4 l de leche."
   ]
  },
  {
   "cell_type": "code",
   "execution_count": 10,
   "metadata": {
    "collapsed": false
   },
   "outputs": [
    {
     "data": {
      "text/plain": [
       "{j: 16, a: 3, l: 1}"
      ]
     },
     "execution_count": 10,
     "metadata": {},
     "output_type": "execute_result"
    }
   ],
   "source": [
    "from sympy import Matrix\n",
    "from sympy.abc import l,j,a\n",
    "from sympy.solvers.solvers import solve_linear_system_LU\n",
    "\n",
    "#24*l + 6*j + 12*a = 156\n",
    "#1*a = 3*l\n",
    "#1*j = 4*a + 4*l\n",
    "\n",
    "#Ordenamos las ecuaciones 2 y 3\n",
    "\n",
    "#24*l + 6*j + 12*a = 156\n",
    "#3*l + 0*j - 1*a = 0\n",
    "#4*l - 1*j + 4*a = 0\n",
    "\n",
    "solve_linear_system_LU(Matrix([\n",
    "    [24,6,12,156],\n",
    "    [3,0,-1,0],\n",
    "    [4,-1,4,0]]), [l, j, a])"
   ]
  },
  {
   "cell_type": "code",
   "execution_count": null,
   "metadata": {
    "collapsed": true
   },
   "outputs": [],
   "source": []
  },
  {
   "cell_type": "code",
   "execution_count": null,
   "metadata": {
    "collapsed": true
   },
   "outputs": [],
   "source": []
  }
 ],
 "metadata": {
  "kernelspec": {
   "display_name": "Python 2",
   "language": "python",
   "name": "python2"
  },
  "language_info": {
   "codemirror_mode": {
    "name": "ipython",
    "version": 2
   },
   "file_extension": ".py",
   "mimetype": "text/x-python",
   "name": "python",
   "nbconvert_exporter": "python",
   "pygments_lexer": "ipython2",
   "version": "2.7.13"
  }
 },
 "nbformat": 4,
 "nbformat_minor": 2
}
